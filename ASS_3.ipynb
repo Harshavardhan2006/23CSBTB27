{
  "nbformat": 4,
  "nbformat_minor": 0,
  "metadata": {
    "colab": {
      "provenance": [],
      "authorship_tag": "ABX9TyM9ZEs9TwIPxZhflyLWGP0k",
      "include_colab_link": true
    },
    "kernelspec": {
      "name": "python3",
      "display_name": "Python 3"
    },
    "language_info": {
      "name": "python"
    }
  },
  "cells": [
    {
      "cell_type": "markdown",
      "metadata": {
        "id": "view-in-github",
        "colab_type": "text"
      },
      "source": [
        "<a href=\"https://colab.research.google.com/github/Harshavardhan2006/23CSBTB27-28/blob/main/ASS_3.ipynb\" target=\"_parent\"><img src=\"https://colab.research.google.com/assets/colab-badge.svg\" alt=\"Open In Colab\"/></a>"
      ]
    },
    {
      "cell_type": "markdown",
      "source": [
        "Implements a player Game using game class function\n"
      ],
      "metadata": {
        "id": "rTFnuHRtzr5U"
      }
    },
    {
      "cell_type": "code",
      "execution_count": null,
      "metadata": {
        "id": "Ge0LLjjoyvGn"
      },
      "outputs": [],
      "source": [
        "from collections import namedtuple, Counter, defaultdict\n",
        "import random\n",
        "import math\n",
        "import functools\n",
        "cache = functools.lru_cache(10**6)"
      ]
    },
    {
      "cell_type": "code",
      "source": [
        "class Game :\n",
        "\n",
        "  def actions(self, state ):\n",
        "    raise NotImplementedError\n",
        "\n",
        "  def result(self, state , move ):\n",
        "    raise NotImplementedError\n",
        "\n",
        "  def is_terminal (self, state ):\n",
        "    return not self.actions(state)\n",
        "\n",
        "  def utility(self, state , player ):\n",
        "    raise NotImplementedError"
      ],
      "metadata": {
        "id": "g5BM6IDH0ZHt"
      },
      "execution_count": null,
      "outputs": []
    },
    {
      "cell_type": "code",
      "source": [
        "def play_game (game , strategies : dict , verbose=False ):\n",
        "  state = game.initial\n",
        "  while not game.is_terminal (state ):\n",
        "    player = state.to_move\n",
        "    move = strategies [player ](game , state)\n",
        "    state = game.result(state , move)\n",
        "  if verbose:\n",
        "    print('Player', player , 'move:', move)\n",
        "    print(state)\n",
        "    return state"
      ],
      "metadata": {
        "id": "Vlx3rZ3x1tdz"
      },
      "execution_count": null,
      "outputs": []
    },
    {
      "cell_type": "markdown",
      "source": [
        "Part 2 – Implement the Game Strategy Algorithms\n"
      ],
      "metadata": {
        "id": "gpseKAoB2g7A"
      }
    },
    {
      "cell_type": "code",
      "source": [
        "def minimax_search (game , state ):\n",
        "  player = state.to_move\n",
        "\n",
        "def max_value (state ):\n",
        "  if game.is_terminal (state ):\n",
        "    return game.utility(state , player), None\n",
        "    v, move = infinity , None\n",
        "  for a in game.actions(state ):\n",
        "    v2 , = min_value (game.result(state , a))\n",
        "  if v2 > v:\n",
        "    v, move = v2 , a\n",
        "    return v, move\n",
        "\n",
        "def min_value (state ):\n",
        "  if game.is_terminal (state ):\n",
        "    return game.utility(state , player), None\n",
        "    v, move = +infinity , None\n",
        "  for a in game.actions(state ):\n",
        "    v2 , = max_value (game.result(state , a))\n",
        "  if v2 < v:\n",
        "    v, move = v2 , a\n",
        "    return v, move\n",
        "    return max_value (state)\n",
        "    infinity = math.inf"
      ],
      "metadata": {
        "id": "OwxNtE-92nip"
      },
      "execution_count": null,
      "outputs": []
    },
    {
      "cell_type": "markdown",
      "source": [
        "Implement the Alpha-Beta Search Algorithm"
      ],
      "metadata": {
        "id": "x_cAVDv-33U6"
      }
    },
    {
      "cell_type": "code",
      "source": [
        "def alphabeta_search (game , state ):\n",
        "  player = state.to_move\n",
        "\n",
        "def max_value (state , alpha , beta ):\n",
        "  if game.is_terminal (state ):\n",
        "    return game.utility(state , player), None\n",
        "    v, move = infinity , None\n",
        "  for a in game.actions(state ):\n",
        "    v2 , = min_value (game.result(state , a), alpha , beta)\n",
        "  if v2 > v:\n",
        "    v, move = v2 , a\n",
        "    alpha = max(alpha , v)\n",
        "  if v >= beta:\n",
        "    return v, move\n",
        "    return v, move\n",
        "\n",
        "def min_value (state , alpha , beta ):\n",
        "  if game.is_terminal (state ):\n",
        "    return game.utility(state , player), None\n",
        "    v, move = +infinity , None\n",
        "  for a in game.actions(state ):\n",
        "    v2 , = max_value (game.result(state , a), alpha , beta)\n",
        "  if v2 < v:\n",
        "    v, move = v2 , a\n",
        "    beta = min(beta , v)\n",
        "  if v <= alpha:\n",
        "    return v, move\n",
        "    return v, move\n",
        "    return max_value (state , infinity , +infinity )"
      ],
      "metadata": {
        "id": "rdFPdix335Lr"
      },
      "execution_count": null,
      "outputs": []
    },
    {
      "cell_type": "markdown",
      "source": [
        "Part 3 – Implement the Game Strategy using TicTocToe"
      ],
      "metadata": {
        "id": "nqWUNk7Q5f3F"
      }
    },
    {
      "cell_type": "code",
      "source": [
        "class TicTacToe():\n",
        "  def __init__ (self, height =3, width =3, k=3):\n",
        "    self.k = k\n",
        "    self.squares = {(x, y) for x in range(width) for y in range(height)}\n",
        "    self.initial = Board(height=height , width=width , to_move ='X', utility =0)\n",
        "\n",
        "  def actions(self, board ):\n",
        "\n",
        "    return self.squaresset(board)\n",
        "\n",
        "  def result(self, board , square ):\n",
        "    player = board.to_move\n",
        "    board = board.new({square: player}, to_move =('O' if player == 'X' else 'X'))\n",
        "    win = k in row (board , player , square , self.k)\n",
        "    board.utility = (0 if not win else +1 if player == 'X' else 1)\n",
        "    return board\n",
        "\n",
        "  def utility(self, board , player ):\n",
        "    return board.utility if player == 'X' else board.utility\n",
        "\n",
        "  def is_terminal (self, board ):\n",
        "    return board.utility != 0 or len(self.squares) == len(board)\n",
        "\n",
        "  def display(self, board ): print(board)\n",
        "\n",
        "  def k_in_row (board , player , square , k):\n",
        "    def in_row (x, y, dx , dy):\n",
        "      return 0 if board[x, y] != player else 1 + in_row (x + dx , y + dy , dx , dy)\n",
        "      return any(in_row(square , dx , dy) + in_row(square , dx , dy))"
      ],
      "metadata": {
        "id": "I5TGC9M75j17"
      },
      "execution_count": 7,
      "outputs": []
    },
    {
      "cell_type": "markdown",
      "source": [
        "Implement a Game Board using defaultdict using _init_ , new, _missing_ , _hash_ ,\n",
        "_repr_"
      ],
      "metadata": {
        "id": "729ViiBi9BU2"
      }
    },
    {
      "cell_type": "code",
      "source": [
        "class Board():\n",
        "  empty = '.'\n",
        "  off = '#'\n",
        "\n",
        "  def __intit__ (self, width =8, height =8, to_move = None):\n",
        "    self.__dict__.update(width=width , height=height , to_move = to_move)\n",
        "\n",
        "  def new(self, changes: dict):\n",
        "    board = Board(width=self.width , height=self.height)\n",
        "    board.update(self)\n",
        "    board.update(changes)\n",
        "    return board\n",
        "\n",
        "  def __missing__ (self, loc ):\n",
        "    x, y = loc\n",
        "    if 0 <= x < self.width and 0 <= y < self.height:\n",
        "\n",
        "      return self.empty\n",
        "    else:\n",
        "      return self.off\n",
        "\n",
        "  def __hash__ (self):\n",
        "    return hash(tuple(sorted(self.items ()))) + hash(self.to_move )\n",
        "\n",
        "  def __reper__ (self):\n",
        "    def row(y): return ' '.join(self[x, y] for x in range(self.width ))\n",
        "    return '\\n'.join(map(row , range(self.height ))) + '\\n'"
      ],
      "metadata": {
        "id": "fBpdvTka8yhB"
      },
      "execution_count": 8,
      "outputs": []
    },
    {
      "cell_type": "markdown",
      "source": [
        "Implement random player(game,state) and player(search algorithm)"
      ],
      "metadata": {
        "id": "Yb6GTbxQU5LI"
      }
    },
    {
      "cell_type": "code",
      "source": [
        "def random_player (game , state ):\n",
        "  return random.choice(list(game.actions(state )))\n",
        "def player( search_algorithm ):\n",
        "  return lambda game , state: search_algorithm (game , state )[1]"
      ],
      "metadata": {
        "id": "jXN0MWW4U6Ab"
      },
      "execution_count": 12,
      "outputs": []
    }
  ]
}