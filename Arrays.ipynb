{
  "nbformat": 4,
  "nbformat_minor": 0,
  "metadata": {
    "colab": {
      "provenance": [],
      "authorship_tag": "ABX9TyMOIu2rvQcX8FqbojPMy+xy",
      "include_colab_link": true
    },
    "kernelspec": {
      "name": "python3",
      "display_name": "Python 3"
    },
    "language_info": {
      "name": "python"
    }
  },
  "cells": [
    {
      "cell_type": "markdown",
      "metadata": {
        "id": "view-in-github",
        "colab_type": "text"
      },
      "source": [
        "<a href=\"https://colab.research.google.com/github/Harshavardhan2006/23CSBTB27-28/blob/main/Arrays.ipynb\" target=\"_parent\"><img src=\"https://colab.research.google.com/assets/colab-badge.svg\" alt=\"Open In Colab\"/></a>"
      ]
    },
    {
      "cell_type": "markdown",
      "source": [
        "Creation Array and Array Operation\n"
      ],
      "metadata": {
        "id": "Hz73RXpim6Wu"
      }
    },
    {
      "cell_type": "code",
      "source": [
        "import numpy as np\n",
        "arry = np.array([2,5,3,7,3])\n",
        "print(arry)\n",
        "print(type(arry))"
      ],
      "metadata": {
        "colab": {
          "base_uri": "https://localhost:8080/"
        },
        "id": "bR6EypjIm9LC",
        "outputId": "0e0e655d-7d0c-47f7-af12-9dedcb87c2e1"
      },
      "execution_count": 1,
      "outputs": [
        {
          "output_type": "stream",
          "name": "stdout",
          "text": [
            "[2 5 3 7 3]\n",
            "<class 'numpy.ndarray'>\n"
          ]
        }
      ]
    },
    {
      "cell_type": "code",
      "source": [
        "import numpy as np\n",
        "arry1 = np.array({'apple','banana','orange'})\n",
        "print(arry1)\n",
        "print(type(arry1))"
      ],
      "metadata": {
        "colab": {
          "base_uri": "https://localhost:8080/"
        },
        "id": "vi-eT2bVnDDt",
        "outputId": "f862aec4-f578-4911-9a94-c34e62d0d699"
      },
      "execution_count": 2,
      "outputs": [
        {
          "output_type": "stream",
          "name": "stdout",
          "text": [
            "{'apple', 'orange', 'banana'}\n",
            "<class 'numpy.ndarray'>\n"
          ]
        }
      ]
    },
    {
      "cell_type": "code",
      "source": [
        "import numpy as np\n",
        "arry = np.array([[2,5],[4,2]])\n",
        "arry1 = np.array([[2,5,4,2],[4,2,1,0]])\n",
        "arry2 = np.array([[2,5,4],[4,2,5],[6,7,8]])\n",
        "print(arry)\n",
        "print(arry1)\n",
        "print(arry2)"
      ],
      "metadata": {
        "colab": {
          "base_uri": "https://localhost:8080/"
        },
        "id": "azOeM2wenFLM",
        "outputId": "0596f0d4-476e-41d5-c375-3f651f21a347"
      },
      "execution_count": 3,
      "outputs": [
        {
          "output_type": "stream",
          "name": "stdout",
          "text": [
            "[[2 5]\n",
            " [4 2]]\n",
            "[[2 5 4 2]\n",
            " [4 2 1 0]]\n",
            "[[2 5 4]\n",
            " [4 2 5]\n",
            " [6 7 8]]\n"
          ]
        }
      ]
    },
    {
      "cell_type": "code",
      "source": [
        "import numpy as np\n",
        "arry1 = np.array([1,3,4,5,6])\n",
        "arry2 = np.array([2,6,3,4,8])\n",
        "print(arry1)\n",
        "print(arry2)\n",
        "print(np.add(arry1,arry2))\n",
        "print(type(arry1))"
      ],
      "metadata": {
        "id": "rv8vJYicnIK2",
        "outputId": "57dc51a5-3a28-49e2-9096-c4c64b8431ff",
        "colab": {
          "base_uri": "https://localhost:8080/"
        }
      },
      "execution_count": 4,
      "outputs": [
        {
          "output_type": "stream",
          "name": "stdout",
          "text": [
            "[1 3 4 5 6]\n",
            "[2 6 3 4 8]\n",
            "[ 3  9  7  9 14]\n",
            "<class 'numpy.ndarray'>\n"
          ]
        }
      ]
    }
  ]
}